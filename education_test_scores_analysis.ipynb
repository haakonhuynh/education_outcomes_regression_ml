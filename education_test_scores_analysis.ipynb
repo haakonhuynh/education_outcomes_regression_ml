{
  "nbformat": 4,
  "nbformat_minor": 0,
  "metadata": {
    "colab": {
      "provenance": [],
      "include_colab_link": true
    },
    "kernelspec": {
      "name": "python3",
      "display_name": "Python 3"
    },
    "language_info": {
      "name": "python"
    }
  },
  "cells": [
    {
      "cell_type": "markdown",
      "metadata": {
        "id": "view-in-github",
        "colab_type": "text"
      },
      "source": [
        "<a href=\"https://colab.research.google.com/github/haakonhuynh/education_outcomes_regression_ml/blob/main/education_test_scores_analysis.ipynb\" target=\"_parent\"><img src=\"https://colab.research.google.com/assets/colab-badge.svg\" alt=\"Open In Colab\"/></a>"
      ]
    },
    {
      "cell_type": "markdown",
      "source": [
        "# 📚 Predicting Test Scores in California Schools\n",
        "This notebook explores which school-level variables (e.g., income, teacher ratio, computers per student) best predict standardized test scores using linear regression models.\n"
      ],
      "metadata": {
        "id": "rJM07unMTO4T"
      }
    },
    {
      "cell_type": "code",
      "execution_count": null,
      "metadata": {
        "colab": {
          "base_uri": "https://localhost:8080/",
          "height": 377
        },
        "id": "uGQwWP10K0W0",
        "outputId": "39fc3caa-1efe-4216-e2d4-2206ceae5c70"
      },
      "outputs": [
        {
          "output_type": "execute_result",
          "data": {
            "text/plain": [
              "   rownames  distcod   county                         district grspan  \\\n",
              "0         1    75119  Alameda               Sunol Glen Unified  KK-08   \n",
              "1         2    61499    Butte             Manzanita Elementary  KK-08   \n",
              "2         3    61549    Butte      Thermalito Union Elementary  KK-08   \n",
              "3         4    61457    Butte  Golden Feather Union Elementary  KK-08   \n",
              "4         5    61523    Butte         Palermo Union Elementary  KK-08   \n",
              "\n",
              "   enrltot   teachers    calwpct    mealpct  computer     testscr   compstu  \\\n",
              "0      195  10.900000   0.510200   2.040800        67  690.799988  0.343590   \n",
              "1      240  11.150000  15.416700  47.916698       101  661.200012  0.420833   \n",
              "2     1550  82.900002  55.032299  76.322601       169  643.599976  0.109032   \n",
              "3      243  14.000000  36.475399  77.049202        85  647.700012  0.349794   \n",
              "4     1335  71.500000  33.108601  78.427002       171  640.849976  0.128090   \n",
              "\n",
              "       expnstu        str     avginc      elpct     readscr     mathscr  \n",
              "0  6384.911133  17.889910  22.690001   0.000000  691.599976  690.000000  \n",
              "1  5099.380859  21.524664   9.824000   4.583333  660.500000  661.900024  \n",
              "2  5501.954590  18.697226   8.978000  30.000002  636.299988  650.900024  \n",
              "3  7101.831055  17.357143   8.978000   0.000000  651.900024  643.500000  \n",
              "4  5235.987793  18.671329   9.080333  13.857677  641.799988  639.900024  "
            ],
            "text/html": [
              "\n",
              "  <div id=\"df-5081d7dd-2f25-46be-a7ee-c1a25ba00ecb\" class=\"colab-df-container\">\n",
              "    <div>\n",
              "<style scoped>\n",
              "    .dataframe tbody tr th:only-of-type {\n",
              "        vertical-align: middle;\n",
              "    }\n",
              "\n",
              "    .dataframe tbody tr th {\n",
              "        vertical-align: top;\n",
              "    }\n",
              "\n",
              "    .dataframe thead th {\n",
              "        text-align: right;\n",
              "    }\n",
              "</style>\n",
              "<table border=\"1\" class=\"dataframe\">\n",
              "  <thead>\n",
              "    <tr style=\"text-align: right;\">\n",
              "      <th></th>\n",
              "      <th>rownames</th>\n",
              "      <th>distcod</th>\n",
              "      <th>county</th>\n",
              "      <th>district</th>\n",
              "      <th>grspan</th>\n",
              "      <th>enrltot</th>\n",
              "      <th>teachers</th>\n",
              "      <th>calwpct</th>\n",
              "      <th>mealpct</th>\n",
              "      <th>computer</th>\n",
              "      <th>testscr</th>\n",
              "      <th>compstu</th>\n",
              "      <th>expnstu</th>\n",
              "      <th>str</th>\n",
              "      <th>avginc</th>\n",
              "      <th>elpct</th>\n",
              "      <th>readscr</th>\n",
              "      <th>mathscr</th>\n",
              "    </tr>\n",
              "  </thead>\n",
              "  <tbody>\n",
              "    <tr>\n",
              "      <th>0</th>\n",
              "      <td>1</td>\n",
              "      <td>75119</td>\n",
              "      <td>Alameda</td>\n",
              "      <td>Sunol Glen Unified</td>\n",
              "      <td>KK-08</td>\n",
              "      <td>195</td>\n",
              "      <td>10.900000</td>\n",
              "      <td>0.510200</td>\n",
              "      <td>2.040800</td>\n",
              "      <td>67</td>\n",
              "      <td>690.799988</td>\n",
              "      <td>0.343590</td>\n",
              "      <td>6384.911133</td>\n",
              "      <td>17.889910</td>\n",
              "      <td>22.690001</td>\n",
              "      <td>0.000000</td>\n",
              "      <td>691.599976</td>\n",
              "      <td>690.000000</td>\n",
              "    </tr>\n",
              "    <tr>\n",
              "      <th>1</th>\n",
              "      <td>2</td>\n",
              "      <td>61499</td>\n",
              "      <td>Butte</td>\n",
              "      <td>Manzanita Elementary</td>\n",
              "      <td>KK-08</td>\n",
              "      <td>240</td>\n",
              "      <td>11.150000</td>\n",
              "      <td>15.416700</td>\n",
              "      <td>47.916698</td>\n",
              "      <td>101</td>\n",
              "      <td>661.200012</td>\n",
              "      <td>0.420833</td>\n",
              "      <td>5099.380859</td>\n",
              "      <td>21.524664</td>\n",
              "      <td>9.824000</td>\n",
              "      <td>4.583333</td>\n",
              "      <td>660.500000</td>\n",
              "      <td>661.900024</td>\n",
              "    </tr>\n",
              "    <tr>\n",
              "      <th>2</th>\n",
              "      <td>3</td>\n",
              "      <td>61549</td>\n",
              "      <td>Butte</td>\n",
              "      <td>Thermalito Union Elementary</td>\n",
              "      <td>KK-08</td>\n",
              "      <td>1550</td>\n",
              "      <td>82.900002</td>\n",
              "      <td>55.032299</td>\n",
              "      <td>76.322601</td>\n",
              "      <td>169</td>\n",
              "      <td>643.599976</td>\n",
              "      <td>0.109032</td>\n",
              "      <td>5501.954590</td>\n",
              "      <td>18.697226</td>\n",
              "      <td>8.978000</td>\n",
              "      <td>30.000002</td>\n",
              "      <td>636.299988</td>\n",
              "      <td>650.900024</td>\n",
              "    </tr>\n",
              "    <tr>\n",
              "      <th>3</th>\n",
              "      <td>4</td>\n",
              "      <td>61457</td>\n",
              "      <td>Butte</td>\n",
              "      <td>Golden Feather Union Elementary</td>\n",
              "      <td>KK-08</td>\n",
              "      <td>243</td>\n",
              "      <td>14.000000</td>\n",
              "      <td>36.475399</td>\n",
              "      <td>77.049202</td>\n",
              "      <td>85</td>\n",
              "      <td>647.700012</td>\n",
              "      <td>0.349794</td>\n",
              "      <td>7101.831055</td>\n",
              "      <td>17.357143</td>\n",
              "      <td>8.978000</td>\n",
              "      <td>0.000000</td>\n",
              "      <td>651.900024</td>\n",
              "      <td>643.500000</td>\n",
              "    </tr>\n",
              "    <tr>\n",
              "      <th>4</th>\n",
              "      <td>5</td>\n",
              "      <td>61523</td>\n",
              "      <td>Butte</td>\n",
              "      <td>Palermo Union Elementary</td>\n",
              "      <td>KK-08</td>\n",
              "      <td>1335</td>\n",
              "      <td>71.500000</td>\n",
              "      <td>33.108601</td>\n",
              "      <td>78.427002</td>\n",
              "      <td>171</td>\n",
              "      <td>640.849976</td>\n",
              "      <td>0.128090</td>\n",
              "      <td>5235.987793</td>\n",
              "      <td>18.671329</td>\n",
              "      <td>9.080333</td>\n",
              "      <td>13.857677</td>\n",
              "      <td>641.799988</td>\n",
              "      <td>639.900024</td>\n",
              "    </tr>\n",
              "  </tbody>\n",
              "</table>\n",
              "</div>\n",
              "    <div class=\"colab-df-buttons\">\n",
              "\n",
              "  <div class=\"colab-df-container\">\n",
              "    <button class=\"colab-df-convert\" onclick=\"convertToInteractive('df-5081d7dd-2f25-46be-a7ee-c1a25ba00ecb')\"\n",
              "            title=\"Convert this dataframe to an interactive table.\"\n",
              "            style=\"display:none;\">\n",
              "\n",
              "  <svg xmlns=\"http://www.w3.org/2000/svg\" height=\"24px\" viewBox=\"0 -960 960 960\">\n",
              "    <path d=\"M120-120v-720h720v720H120Zm60-500h600v-160H180v160Zm220 220h160v-160H400v160Zm0 220h160v-160H400v160ZM180-400h160v-160H180v160Zm440 0h160v-160H620v160ZM180-180h160v-160H180v160Zm440 0h160v-160H620v160Z\"/>\n",
              "  </svg>\n",
              "    </button>\n",
              "\n",
              "  <style>\n",
              "    .colab-df-container {\n",
              "      display:flex;\n",
              "      gap: 12px;\n",
              "    }\n",
              "\n",
              "    .colab-df-convert {\n",
              "      background-color: #E8F0FE;\n",
              "      border: none;\n",
              "      border-radius: 50%;\n",
              "      cursor: pointer;\n",
              "      display: none;\n",
              "      fill: #1967D2;\n",
              "      height: 32px;\n",
              "      padding: 0 0 0 0;\n",
              "      width: 32px;\n",
              "    }\n",
              "\n",
              "    .colab-df-convert:hover {\n",
              "      background-color: #E2EBFA;\n",
              "      box-shadow: 0px 1px 2px rgba(60, 64, 67, 0.3), 0px 1px 3px 1px rgba(60, 64, 67, 0.15);\n",
              "      fill: #174EA6;\n",
              "    }\n",
              "\n",
              "    .colab-df-buttons div {\n",
              "      margin-bottom: 4px;\n",
              "    }\n",
              "\n",
              "    [theme=dark] .colab-df-convert {\n",
              "      background-color: #3B4455;\n",
              "      fill: #D2E3FC;\n",
              "    }\n",
              "\n",
              "    [theme=dark] .colab-df-convert:hover {\n",
              "      background-color: #434B5C;\n",
              "      box-shadow: 0px 1px 3px 1px rgba(0, 0, 0, 0.15);\n",
              "      filter: drop-shadow(0px 1px 2px rgba(0, 0, 0, 0.3));\n",
              "      fill: #FFFFFF;\n",
              "    }\n",
              "  </style>\n",
              "\n",
              "    <script>\n",
              "      const buttonEl =\n",
              "        document.querySelector('#df-5081d7dd-2f25-46be-a7ee-c1a25ba00ecb button.colab-df-convert');\n",
              "      buttonEl.style.display =\n",
              "        google.colab.kernel.accessAllowed ? 'block' : 'none';\n",
              "\n",
              "      async function convertToInteractive(key) {\n",
              "        const element = document.querySelector('#df-5081d7dd-2f25-46be-a7ee-c1a25ba00ecb');\n",
              "        const dataTable =\n",
              "          await google.colab.kernel.invokeFunction('convertToInteractive',\n",
              "                                                    [key], {});\n",
              "        if (!dataTable) return;\n",
              "\n",
              "        const docLinkHtml = 'Like what you see? Visit the ' +\n",
              "          '<a target=\"_blank\" href=https://colab.research.google.com/notebooks/data_table.ipynb>data table notebook</a>'\n",
              "          + ' to learn more about interactive tables.';\n",
              "        element.innerHTML = '';\n",
              "        dataTable['output_type'] = 'display_data';\n",
              "        await google.colab.output.renderOutput(dataTable, element);\n",
              "        const docLink = document.createElement('div');\n",
              "        docLink.innerHTML = docLinkHtml;\n",
              "        element.appendChild(docLink);\n",
              "      }\n",
              "    </script>\n",
              "  </div>\n",
              "\n",
              "\n",
              "<div id=\"df-93d13d3a-0ff8-4763-a46c-c7d1d9f489d5\">\n",
              "  <button class=\"colab-df-quickchart\" onclick=\"quickchart('df-93d13d3a-0ff8-4763-a46c-c7d1d9f489d5')\"\n",
              "            title=\"Suggest charts\"\n",
              "            style=\"display:none;\">\n",
              "\n",
              "<svg xmlns=\"http://www.w3.org/2000/svg\" height=\"24px\"viewBox=\"0 0 24 24\"\n",
              "     width=\"24px\">\n",
              "    <g>\n",
              "        <path d=\"M19 3H5c-1.1 0-2 .9-2 2v14c0 1.1.9 2 2 2h14c1.1 0 2-.9 2-2V5c0-1.1-.9-2-2-2zM9 17H7v-7h2v7zm4 0h-2V7h2v10zm4 0h-2v-4h2v4z\"/>\n",
              "    </g>\n",
              "</svg>\n",
              "  </button>\n",
              "\n",
              "<style>\n",
              "  .colab-df-quickchart {\n",
              "      --bg-color: #E8F0FE;\n",
              "      --fill-color: #1967D2;\n",
              "      --hover-bg-color: #E2EBFA;\n",
              "      --hover-fill-color: #174EA6;\n",
              "      --disabled-fill-color: #AAA;\n",
              "      --disabled-bg-color: #DDD;\n",
              "  }\n",
              "\n",
              "  [theme=dark] .colab-df-quickchart {\n",
              "      --bg-color: #3B4455;\n",
              "      --fill-color: #D2E3FC;\n",
              "      --hover-bg-color: #434B5C;\n",
              "      --hover-fill-color: #FFFFFF;\n",
              "      --disabled-bg-color: #3B4455;\n",
              "      --disabled-fill-color: #666;\n",
              "  }\n",
              "\n",
              "  .colab-df-quickchart {\n",
              "    background-color: var(--bg-color);\n",
              "    border: none;\n",
              "    border-radius: 50%;\n",
              "    cursor: pointer;\n",
              "    display: none;\n",
              "    fill: var(--fill-color);\n",
              "    height: 32px;\n",
              "    padding: 0;\n",
              "    width: 32px;\n",
              "  }\n",
              "\n",
              "  .colab-df-quickchart:hover {\n",
              "    background-color: var(--hover-bg-color);\n",
              "    box-shadow: 0 1px 2px rgba(60, 64, 67, 0.3), 0 1px 3px 1px rgba(60, 64, 67, 0.15);\n",
              "    fill: var(--button-hover-fill-color);\n",
              "  }\n",
              "\n",
              "  .colab-df-quickchart-complete:disabled,\n",
              "  .colab-df-quickchart-complete:disabled:hover {\n",
              "    background-color: var(--disabled-bg-color);\n",
              "    fill: var(--disabled-fill-color);\n",
              "    box-shadow: none;\n",
              "  }\n",
              "\n",
              "  .colab-df-spinner {\n",
              "    border: 2px solid var(--fill-color);\n",
              "    border-color: transparent;\n",
              "    border-bottom-color: var(--fill-color);\n",
              "    animation:\n",
              "      spin 1s steps(1) infinite;\n",
              "  }\n",
              "\n",
              "  @keyframes spin {\n",
              "    0% {\n",
              "      border-color: transparent;\n",
              "      border-bottom-color: var(--fill-color);\n",
              "      border-left-color: var(--fill-color);\n",
              "    }\n",
              "    20% {\n",
              "      border-color: transparent;\n",
              "      border-left-color: var(--fill-color);\n",
              "      border-top-color: var(--fill-color);\n",
              "    }\n",
              "    30% {\n",
              "      border-color: transparent;\n",
              "      border-left-color: var(--fill-color);\n",
              "      border-top-color: var(--fill-color);\n",
              "      border-right-color: var(--fill-color);\n",
              "    }\n",
              "    40% {\n",
              "      border-color: transparent;\n",
              "      border-right-color: var(--fill-color);\n",
              "      border-top-color: var(--fill-color);\n",
              "    }\n",
              "    60% {\n",
              "      border-color: transparent;\n",
              "      border-right-color: var(--fill-color);\n",
              "    }\n",
              "    80% {\n",
              "      border-color: transparent;\n",
              "      border-right-color: var(--fill-color);\n",
              "      border-bottom-color: var(--fill-color);\n",
              "    }\n",
              "    90% {\n",
              "      border-color: transparent;\n",
              "      border-bottom-color: var(--fill-color);\n",
              "    }\n",
              "  }\n",
              "</style>\n",
              "\n",
              "  <script>\n",
              "    async function quickchart(key) {\n",
              "      const quickchartButtonEl =\n",
              "        document.querySelector('#' + key + ' button');\n",
              "      quickchartButtonEl.disabled = true;  // To prevent multiple clicks.\n",
              "      quickchartButtonEl.classList.add('colab-df-spinner');\n",
              "      try {\n",
              "        const charts = await google.colab.kernel.invokeFunction(\n",
              "            'suggestCharts', [key], {});\n",
              "      } catch (error) {\n",
              "        console.error('Error during call to suggestCharts:', error);\n",
              "      }\n",
              "      quickchartButtonEl.classList.remove('colab-df-spinner');\n",
              "      quickchartButtonEl.classList.add('colab-df-quickchart-complete');\n",
              "    }\n",
              "    (() => {\n",
              "      let quickchartButtonEl =\n",
              "        document.querySelector('#df-93d13d3a-0ff8-4763-a46c-c7d1d9f489d5 button');\n",
              "      quickchartButtonEl.style.display =\n",
              "        google.colab.kernel.accessAllowed ? 'block' : 'none';\n",
              "    })();\n",
              "  </script>\n",
              "</div>\n",
              "\n",
              "    </div>\n",
              "  </div>\n"
            ],
            "application/vnd.google.colaboratory.intrinsic+json": {
              "type": "dataframe",
              "variable_name": "df",
              "summary": "{\n  \"name\": \"df\",\n  \"rows\": 420,\n  \"fields\": [\n    {\n      \"column\": \"rownames\",\n      \"properties\": {\n        \"dtype\": \"number\",\n        \"std\": 121,\n        \"min\": 1,\n        \"max\": 420,\n        \"num_unique_values\": 420,\n        \"samples\": [\n          146,\n          335,\n          176\n        ],\n        \"semantic_type\": \"\",\n        \"description\": \"\"\n      }\n    },\n    {\n      \"column\": \"distcod\",\n      \"properties\": {\n        \"dtype\": \"number\",\n        \"std\": 3466,\n        \"min\": 61382,\n        \"max\": 75440,\n        \"num_unique_values\": 420,\n        \"samples\": [\n          68205,\n          71654,\n          63032\n        ],\n        \"semantic_type\": \"\",\n        \"description\": \"\"\n      }\n    },\n    {\n      \"column\": \"county\",\n      \"properties\": {\n        \"dtype\": \"category\",\n        \"num_unique_values\": 45,\n        \"samples\": [\n          \"Calaveras\",\n          \"Lake\",\n          \"Sutter\"\n        ],\n        \"semantic_type\": \"\",\n        \"description\": \"\"\n      }\n    },\n    {\n      \"column\": \"district\",\n      \"properties\": {\n        \"dtype\": \"string\",\n        \"num_unique_values\": 409,\n        \"samples\": [\n          \"Red Bluff Union Elementary\",\n          \"Banta Elementary\",\n          \"Bellevue Union Elementary\"\n        ],\n        \"semantic_type\": \"\",\n        \"description\": \"\"\n      }\n    },\n    {\n      \"column\": \"grspan\",\n      \"properties\": {\n        \"dtype\": \"category\",\n        \"num_unique_values\": 2,\n        \"samples\": [\n          \"KK-06\",\n          \"KK-08\"\n        ],\n        \"semantic_type\": \"\",\n        \"description\": \"\"\n      }\n    },\n    {\n      \"column\": \"enrltot\",\n      \"properties\": {\n        \"dtype\": \"number\",\n        \"std\": 3913,\n        \"min\": 81,\n        \"max\": 27176,\n        \"num_unique_values\": 391,\n        \"samples\": [\n          446,\n          6219\n        ],\n        \"semantic_type\": \"\",\n        \"description\": \"\"\n      }\n    },\n    {\n      \"column\": \"teachers\",\n      \"properties\": {\n        \"dtype\": \"number\",\n        \"std\": 187.91267943401368,\n        \"min\": 4.84999990463257,\n        \"max\": 1429.0,\n        \"num_unique_values\": 374,\n        \"samples\": [\n          16.2800006866455,\n          90.4000015258789\n        ],\n        \"semantic_type\": \"\",\n        \"description\": \"\"\n      }\n    },\n    {\n      \"column\": \"calwpct\",\n      \"properties\": {\n        \"dtype\": \"number\",\n        \"std\": 11.45482099030561,\n        \"min\": 0.0,\n        \"max\": 78.9942016601562,\n        \"num_unique_values\": 411,\n        \"samples\": [\n          20.6348991394043,\n          12.6920003890991\n        ],\n        \"semantic_type\": \"\",\n        \"description\": \"\"\n      }\n    },\n    {\n      \"column\": \"mealpct\",\n      \"properties\": {\n        \"dtype\": \"number\",\n        \"std\": 27.12338108135674,\n        \"min\": 0.0,\n        \"max\": 100.0,\n        \"num_unique_values\": 407,\n        \"samples\": [\n          86.0294036865234,\n          34.0360984802246\n        ],\n        \"semantic_type\": \"\",\n        \"description\": \"\"\n      }\n    },\n    {\n      \"column\": \"computer\",\n      \"properties\": {\n        \"dtype\": \"number\",\n        \"std\": 441,\n        \"min\": 0,\n        \"max\": 3324,\n        \"num_unique_values\": 270,\n        \"samples\": [\n          177,\n          4\n        ],\n        \"semantic_type\": \"\",\n        \"description\": \"\"\n      }\n    },\n    {\n      \"column\": \"testscr\",\n      \"properties\": {\n        \"dtype\": \"number\",\n        \"std\": 19.053347643618796,\n        \"min\": 605.550048828125,\n        \"max\": 706.75,\n        \"num_unique_values\": 379,\n        \"samples\": [\n          668.099975585937,\n          667.150024414062\n        ],\n        \"semantic_type\": \"\",\n        \"description\": \"\"\n      }\n    },\n    {\n      \"column\": \"compstu\",\n      \"properties\": {\n        \"dtype\": \"number\",\n        \"std\": 0.0649558101690213,\n        \"min\": 0.0,\n        \"max\": 0.420833319425583,\n        \"num_unique_values\": 412,\n        \"samples\": [\n          0.09441938996315,\n          0.0869951173663139\n        ],\n        \"semantic_type\": \"\",\n        \"description\": \"\"\n      }\n    },\n    {\n      \"column\": \"expnstu\",\n      \"properties\": {\n        \"dtype\": \"number\",\n        \"std\": 633.9370531095027,\n        \"min\": 3926.06958007812,\n        \"max\": 7711.5068359375,\n        \"num_unique_values\": 420,\n        \"samples\": [\n          5124.83642578125,\n          4357.826171875\n        ],\n        \"semantic_type\": \"\",\n        \"description\": \"\"\n      }\n    },\n    {\n      \"column\": \"str\",\n      \"properties\": {\n        \"dtype\": \"number\",\n        \"std\": 1.891811787233677,\n        \"min\": 14.0,\n        \"max\": 25.7999992370605,\n        \"num_unique_values\": 412,\n        \"samples\": [\n          20.7910938262939,\n          22.8952388763428\n        ],\n        \"semantic_type\": \"\",\n        \"description\": \"\"\n      }\n    },\n    {\n      \"column\": \"avginc\",\n      \"properties\": {\n        \"dtype\": \"number\",\n        \"std\": 7.225889763291426,\n        \"min\": 5.33500003814697,\n        \"max\": 55.3279991149902,\n        \"num_unique_values\": 337,\n        \"samples\": [\n          10.4720001220703,\n          11.9119997024536\n        ],\n        \"semantic_type\": \"\",\n        \"description\": \"\"\n      }\n    },\n    {\n      \"column\": \"elpct\",\n      \"properties\": {\n        \"dtype\": \"number\",\n        \"std\": 18.28592746747183,\n        \"min\": 0.0,\n        \"max\": 85.5397186279297,\n        \"num_unique_values\": 372,\n        \"samples\": [\n          1.68350172042847,\n          49.823070526123\n        ],\n        \"semantic_type\": \"\",\n        \"description\": \"\"\n      }\n    },\n    {\n      \"column\": \"readscr\",\n      \"properties\": {\n        \"dtype\": \"number\",\n        \"std\": 20.107980021196386,\n        \"min\": 604.5,\n        \"max\": 704.0,\n        \"num_unique_values\": 322,\n        \"samples\": [\n          650.0,\n          650.799987792969\n        ],\n        \"semantic_type\": \"\",\n        \"description\": \"\"\n      }\n    },\n    {\n      \"column\": \"mathscr\",\n      \"properties\": {\n        \"dtype\": \"number\",\n        \"std\": 18.75420217300789,\n        \"min\": 605.400024414062,\n        \"max\": 709.5,\n        \"num_unique_values\": 324,\n        \"samples\": [\n          646.099975585938,\n          645.099975585937\n        ],\n        \"semantic_type\": \"\",\n        \"description\": \"\"\n      }\n    }\n  ]\n}"
            }
          },
          "metadata": {},
          "execution_count": 1
        }
      ],
      "source": [
        "#Import relevant libraries, dataset and display\n",
        "import numpy as np\n",
        "import pandas as pd\n",
        "import matplotlib.pyplot as plt\n",
        "import seaborn as sns\n",
        "\n",
        "df = pd.read_csv('https://vincentarelbundock.github.io/Rdatasets/csv/Ecdat/\\\n",
        "Caschool.csv')\n",
        "\n",
        "df.head(5)\n"
      ]
    },
    {
      "cell_type": "markdown",
      "source": [
        "## Display histograms to understand the distribution of relevant values\n"
      ],
      "metadata": {
        "id": "6zCquE4Jv_0x"
      }
    },
    {
      "cell_type": "code",
      "source": [
        "\n",
        "# Histogram for test scores\n",
        "plt.subplot(2, 2, 1)\n",
        "sns.histplot(df[\"testscr\"], bins=30)\n",
        "plt.title(\"Distribution of Test Scores\")\n",
        "\n",
        "# Histogram for expenditure per student\n",
        "plt.subplot(2, 2, 2)\n",
        "sns.histplot(df[\"expnstu\"], bins=30)\n",
        "plt.title(\"Distribution of Expenditure per Student\")\n",
        "\n",
        "# Histogram for percent of English learners\n",
        "plt.subplot(2, 2, 3)\n",
        "sns.histplot(df[\"elpct\"], bins=30)\n",
        "plt.title(\"Distribution of English Learners (%)\")\n",
        "\n",
        "# Histogram for percent qualifying for CalWorks\n",
        "plt.subplot(2, 2, 4)\n",
        "sns.histplot(df[\"calwpct\"], bins=30)\n",
        "plt.title(\"Distribution of CalWorks (%)\")\n",
        "\n",
        "plt.tight_layout()\n",
        "plt.show()"
      ],
      "metadata": {
        "colab": {
          "base_uri": "https://localhost:8080/",
          "height": 486
        },
        "id": "wSCPBSszNbOY",
        "outputId": "0a373557-5a11-487e-c10d-e40283e953b2"
      },
      "execution_count": null,
      "outputs": [
        {
          "output_type": "display_data",
          "data": {
            "text/plain": [
              "<Figure size 640x480 with 4 Axes>"
            ],
            "image/png": "[encoded data removed]"
          },
          "metadata": {}
        }
      ]
    },
    {
      "cell_type": "markdown",
      "source": [
        "## Conduct simple linear regressions for baseline"
      ],
      "metadata": {
        "id": "V1ZOdcX0v8RZ"
      }
    },
    {
      "cell_type": "code",
      "source": [
        "\n",
        "\n",
        "from sklearn.linear_model import LinearRegression\n",
        "\n",
        "# Function to compute and return regression line values\n",
        "def add_regression_line(x, y, df):\n",
        "    X = df[x].values.reshape(-1, 1)\n",
        "    Y = df[y].values.reshape(-1, 1)\n",
        "\n",
        "    model = LinearRegression()\n",
        "    model.fit(X, Y)\n",
        "    predicted = model.predict(X)\n",
        "    return predicted\n",
        "\n",
        "# Scatter plot for test scores vs expenditure per student\n",
        "plt.subplot(2, 2, 1)\n",
        "plt.scatter(df[\"expnstu\"], df[\"testscr\"], alpha=0.7, edgecolor=\"black\")\n",
        "plt.plot(df[\"expnstu\"], add_regression_line(\"expnstu\", \"testscr\", df), color=\\\n",
        "         \"red\", linewidth=2)\n",
        "plt.title(\"Test Scores vs Expenditure per Student\")\n",
        "plt.xlabel(\"Expenditure per Student\")\n",
        "plt.ylabel(\"Test Scores\")\n",
        "\n",
        "# Scatter plot for test scores vs percent of English learners\n",
        "plt.subplot(2, 2, 2)\n",
        "plt.scatter(df[\"elpct\"], df[\"testscr\"], alpha=0.7, edgecolor=\"black\")\n",
        "plt.plot(df[\"elpct\"], add_regression_line(\"elpct\", \"testscr\", df), color=\"red\",\\\n",
        "         linewidth=2)\n",
        "plt.title(\"Test Scores vs English Learners (%)\")\n",
        "plt.xlabel(\"Percent of English Learners\")\n",
        "plt.ylabel(\"Test Scores\")\n",
        "\n",
        "# Scatter plot for test scores vs percent qualifying for CalWorks\n",
        "plt.subplot(2, 2, 3)\n",
        "plt.scatter(df[\"calwpct\"], df[\"testscr\"], alpha=0.7, edgecolor=\"black\")\n",
        "plt.plot(df[\"calwpct\"], add_regression_line(\"calwpct\", \"testscr\", df), \\\n",
        "         color=\"red\" ,linewidth=2)\n",
        "plt.title(\"Test Scores vs CalWorks (%)\")\n",
        "plt.xlabel(\"Percent Qualifying for CalWorks\")\n",
        "plt.ylabel(\"Test Scores\")\n",
        "\n",
        "plt.tight_layout()\n",
        "plt.show()"
      ],
      "metadata": {
        "colab": {
          "base_uri": "https://localhost:8080/",
          "height": 486
        },
        "id": "LQBWUxb3THDL",
        "outputId": "83a1bd22-d6cb-4dd2-e2bb-bdee7df1077c"
      },
      "execution_count": null,
      "outputs": [
        {
          "output_type": "display_data",
          "data": {
            "text/plain": [
              "<Figure size 640x480 with 3 Axes>"
            ],
            "image/png": "[encoded data removed]"
          },
          "metadata": {}
        }
      ]
    },
    {
      "cell_type": "markdown",
      "source": [
        "##Conducting linear regression, KNN, Ridge and Lasso regression on a train/test-split dataset. Calculating and comparing training, test and cross-validation scores"
      ],
      "metadata": {
        "id": "qTl9ggxWwVn3"
      }
    },
    {
      "cell_type": "code",
      "source": [
        "\n",
        "\n",
        "from sklearn.linear_model import LinearRegression\n",
        "from sklearn.model_selection import train_test_split\n",
        "import numpy as np\n",
        "\n",
        "\n",
        "X = df[['enrltot', 'teachers', 'calwpct', 'mealpct', 'computer', 'compstu', \\\n",
        "        'expnstu', 'str', 'avginc', 'elpct']]\n",
        "y = df['testscr']\n",
        "\n",
        "# train/test split with seed specified for replicability\n",
        "X_train, X_test, y_train, y_test = train_test_split(X, y, random_state=42)\n",
        "\n",
        "lr = LinearRegression()\n",
        "lr.fit(X_train, y_train)\n",
        "\n",
        "print(X_train.columns)  # column names to help identify output\n",
        "print(\"\\nlr.coef_: \"+str(lr.coef_))\n",
        "print(\"\\nlr.intercept_: {}\".format(lr.intercept_))\n",
        "\n",
        "# Looking at the training set and test set performance using r squared:\n",
        "\n",
        "print(\"Linear Regression Training set score: {:.2f}\".format(lr.score(X_train,\n",
        "                                                                     y_train)))\n",
        "print(\"Linear Regression Test set score: {:.2f}\".format(lr.score(X_test,\n",
        "                                                                 y_test)))\n",
        "\n",
        "\n",
        "from sklearn.model_selection import cross_val_score\n",
        "\n",
        "print('Linear Regression Cross-Validation Score:', np.mean(cross_val_score\n",
        " (LinearRegression(), X_train, y_train, cv=10, scoring='r2')))"
      ],
      "metadata": {
        "colab": {
          "base_uri": "https://localhost:8080/"
        },
        "id": "jvEQQfMYtmMY",
        "outputId": "eb33c1de-f909-4245-c25a-6b2169b1558d"
      },
      "execution_count": null,
      "outputs": [
        {
          "output_type": "stream",
          "name": "stdout",
          "text": [
            "Index(['enrltot', 'teachers', 'calwpct', 'mealpct', 'computer', 'compstu',\n",
            "       'expnstu', 'str', 'avginc', 'elpct'],\n",
            "      dtype='object')\n",
            "\n",
            "lr.coef_: [ 2.37299343e-04 -9.68465212e-03 -1.05122232e-01 -3.63632211e-01\n",
            "  2.23981150e-03 -1.50110373e+00  1.87297506e-03 -3.68530746e-01\n",
            "  5.17180694e-01 -1.97462843e-01]\n",
            "\n",
            "lr.intercept_: 664.1994881014358\n",
            "Linear Regression Training set score: 0.81\n",
            "Linear Regression Test set score: 0.81\n",
            "Linear Regression Cross-Validation Score: 0.7793254938876506\n"
          ]
        }
      ]
    },
    {
      "source": [
        "from sklearn.neighbors import KNeighborsRegressor\n",
        "from sklearn.preprocessing import StandardScaler\n",
        "from sklearn.model_selection import cross_val_score\n",
        "import numpy as np\n",
        "\n",
        "# Scale the training data\n",
        "scaler = StandardScaler()\n",
        "X_train_scaled = scaler.fit_transform(X_train)\n",
        "X_test_scaled = scaler.transform(X_test)\n",
        "\n",
        "# Initialize and train the KNN regressor\n",
        "knn = KNeighborsRegressor()\n",
        "knn.fit(X_train_scaled, y_train)\n",
        "\n",
        "# Perform cross-validation on the training data\n",
        "print(\"KNN Training set score: {:.2f}\".format(knn.score(X_train_scaled,\n",
        "                                                        y_train)))\n",
        "print(\"KNN Test set score: {:.2f}\".format(knn.score(X_test_scaled, y_test)))\n",
        "\n",
        "# Ensure a fresh model is used for cross-validation\n",
        "knn_cv_score = np.mean(cross_val_score(KNeighborsRegressor(), X_train_scaled,\n",
        "                                       y_train, cv=10, scoring='r2'))\n",
        "print(\"KNN Regression Cross-Validation Score: {:.2f}\".format(knn_cv_score))"
      ],
      "cell_type": "code",
      "metadata": {
        "colab": {
          "base_uri": "https://localhost:8080/"
        },
        "id": "xUdMK66j3fa4",
        "outputId": "a613224d-b635-4b3b-972d-b73e6d9077cc"
      },
      "execution_count": null,
      "outputs": [
        {
          "output_type": "stream",
          "name": "stdout",
          "text": [
            "KNN Training set score: 0.81\n",
            "KNN Test set score: 0.77\n",
            "KNN Regression Cross-Validation Score: 0.71\n"
          ]
        }
      ]
    },
    {
      "cell_type": "code",
      "source": [
        "from sklearn.linear_model import Ridge\n",
        "ridge = Ridge().fit(X_train, y_train)\n",
        "ridge_cv_score = np.mean(cross_val_score(ridge, X_train, y_train, cv=10,\n",
        "                                         scoring='r2'))\n",
        "\n",
        "print(\"Ridge Training set score: {:.2f}\".format(ridge.score(X_train, y_train)))\n",
        "print(\"Ridge Test set score: {:.2f}\".format(ridge.score(X_test, y_test)))\n",
        "print(\"Ridge Cross-Validation Score: {:.2f}\".format(ridge_cv_score))"
      ],
      "metadata": {
        "colab": {
          "base_uri": "https://localhost:8080/"
        },
        "id": "v47CycUtajSt",
        "outputId": "b4197957-0a27-493a-aa12-16fe53364383"
      },
      "execution_count": null,
      "outputs": [
        {
          "output_type": "stream",
          "name": "stdout",
          "text": [
            "Ridge Training set score: 0.81\n",
            "Ridge Test set score: 0.81\n",
            "Ridge Cross-Validation Score: 0.78\n"
          ]
        }
      ]
    },
    {
      "cell_type": "code",
      "source": [
        "from sklearn.linear_model import Lasso\n",
        "\n",
        "lasso = Lasso(alpha=50)  # alpha set based on feedback in output\n",
        "lasso.fit(X_train, y_train)\n",
        "\n",
        "lasso_cv_score = np.mean(cross_val_score(lasso, X_train, y_train, cv=10,\n",
        "                                         scoring='r2'))\n",
        "print(\"Lasso Training set score: {:.2f}\".format(lasso.score(X_train, y_train)))\n",
        "print(\"Lasso Test set score: {:.2f}\".format(lasso.score(X_test, y_test)))\n",
        "print(\"Lasso Regression Cross-Validation Score: {:.2f}\".format(lasso_cv_score))"
      ],
      "metadata": {
        "colab": {
          "base_uri": "https://localhost:8080/"
        },
        "id": "AK-vwme3b9J8",
        "outputId": "d271bbab-5bca-4e35-c3d4-2658db3fe14e"
      },
      "execution_count": null,
      "outputs": [
        {
          "output_type": "stream",
          "name": "stdout",
          "text": [
            "Lasso Training set score: 0.77\n",
            "Lasso Test set score: 0.73\n",
            "Lasso Regression Cross-Validation Score: 0.75\n"
          ]
        }
      ]
    },
    {
      "cell_type": "markdown",
      "source": [
        "Linear Regression, KNN (with StandardScalar and k=5), Ridge and Lasso seem to be perform at around the same accuracy, capturing around 79% of the variance with the chosen alphas. Linear Regression and Ridge appear to have somewhat higher Cross-Validation scores than the other models."
      ],
      "metadata": {
        "id": "n_4BCIkY7qYU"
      }
    },
    {
      "cell_type": "markdown",
      "source": [
        "## Testing the impact of scaling on each model's scores"
      ],
      "metadata": {
        "id": "dpdWHESzxtWq"
      }
    },
    {
      "cell_type": "code",
      "source": [
        "\n",
        "\n",
        "from sklearn.linear_model import LinearRegression\n",
        "from sklearn.model_selection import cross_val_score, KFold\n",
        "from sklearn.preprocessing import StandardScaler\n",
        "from sklearn.pipeline import make_pipeline\n",
        "import numpy as np\n",
        "\n",
        "# Cross-validation setup\n",
        "kf = KFold(n_splits=10, shuffle=True, random_state=42)\n",
        "\n",
        "# Linear Regression without scaling\n",
        "lr = LinearRegression()\n",
        "lr_cv_score_no_scaling = np.mean(cross_val_score(lr, X_train, y_train, cv=kf,\n",
        "                                                 scoring='r2'))\n",
        "\n",
        "# Linear Regression with scaling\n",
        "lr_with_scaling = make_pipeline(StandardScaler(), LinearRegression())\n",
        "lr_cv_score_with_scaling = np.mean(cross_val_score\\\n",
        " (lr_with_scaling, X_train, y_train, cv=kf, scoring='r2'))\n",
        "\n",
        "\n",
        "# Fit models for training & test scores\n",
        "lr.fit(X_train, y_train)\n",
        "lr_with_scaling.fit(X_train, y_train)\n",
        "\n",
        "\n",
        "# Print Linear Regression results\n",
        "print(\"Linear Regression Training Scores:\")\n",
        "print(f\"Without Scaling: {lr.score(X_train, y_train):.2f}\")\n",
        "print(f\"With Scaling: {lr_with_scaling.score(X_train, y_train):.2f}\")\n",
        "\n",
        "print(\"\\nLinear Regression Test Scores:\")\n",
        "print(f\"Without Scaling: {lr.score(X_test, y_test):.2f}\")\n",
        "print(f\"With Scaling: {lr_with_scaling.score(X_test, y_test):.2f}\")\n",
        "\n",
        "print(\"\\nLinear Regression Cross-Validation Scores:\")\n",
        "print(f\"Without Scaling: {lr_cv_score_no_scaling:.2f}\")\n",
        "print(f\"With Scaling: {lr_cv_score_with_scaling:.2f}\")\n",
        "\n"
      ],
      "metadata": {
        "colab": {
          "base_uri": "https://localhost:8080/"
        },
        "id": "0685iyLF8N5x",
        "outputId": "8bd8ab1a-ae54-4f12-baa0-3f93dde37b11"
      },
      "execution_count": null,
      "outputs": [
        {
          "output_type": "stream",
          "name": "stdout",
          "text": [
            "Linear Regression Training Scores:\n",
            "Without Scaling: 0.81\n",
            "With Scaling: 0.81\n",
            "\n",
            "Linear Regression Test Scores:\n",
            "Without Scaling: 0.81\n",
            "With Scaling: 0.81\n",
            "\n",
            "Linear Regression Cross-Validation Scores:\n",
            "Without Scaling: 0.77\n",
            "With Scaling: 0.77\n"
          ]
        }
      ]
    },
    {
      "cell_type": "code",
      "source": [
        "from sklearn.neighbors import KNeighborsRegressor\n",
        "\n",
        "# KNN without scaling\n",
        "knn = KNeighborsRegressor()\n",
        "knn_cv_score_no_scaling = np.mean(cross_val_score(knn, X_train, y_train,\n",
        "                                                  cv=kf, scoring='r2'))\n",
        "\n",
        "# KNN with scaling\n",
        "knn_with_scaling = make_pipeline(StandardScaler(), KNeighborsRegressor\n",
        " (n_neighbors=7))\n",
        "knn_cv_score_with_scaling = np.mean(cross_val_score\n",
        " (knn_with_scaling, X_train, y_train, cv=kf, scoring='r2'))\n",
        "\n",
        "# Fit models for training & test scores\n",
        "knn.fit(X_train, y_train)\n",
        "knn_with_scaling.fit(X_train, y_train)\n",
        "\n",
        "# Print KNN results\n",
        "print(\"KNN Training Scores:\")\n",
        "print(f\"Without Scaling: {knn.score(X_train, y_train):.2f}\")\n",
        "print(f\"With Scaling: {knn_with_scaling.score(X_train, y_train):.2f}\")\n",
        "\n",
        "print(\"\\nKNN Test Scores:\")\n",
        "print(f\"Without Scaling: {knn.score(X_test, y_test):.2f}\")\n",
        "print(f\"With Scaling: {knn_with_scaling.score(X_test, y_test):.2f}\")\n",
        "\n",
        "print(\"\\nKNN Regression Cross-Validation Scores:\")\n",
        "print(f\"Without Scaling: {knn_cv_score_no_scaling:.2f}\")\n",
        "print(f\"With Scaling: {knn_cv_score_with_scaling:.2f}\\n\")\n",
        "\n"
      ],
      "metadata": {
        "colab": {
          "base_uri": "https://localhost:8080/"
        },
        "id": "sMKjwl_-9wro",
        "outputId": "2598cc22-2b17-4f9f-ec98-9f060194fb4e"
      },
      "execution_count": null,
      "outputs": [
        {
          "output_type": "stream",
          "name": "stdout",
          "text": [
            "KNN Training Scores:\n",
            "Without Scaling: 0.30\n",
            "With Scaling: 0.80\n",
            "\n",
            "KNN Test Scores:\n",
            "Without Scaling: 0.08\n",
            "With Scaling: 0.78\n",
            "\n",
            "KNN Regression Cross-Validation Scores:\n",
            "Without Scaling: -0.13\n",
            "With Scaling: 0.70\n",
            "\n"
          ]
        }
      ]
    },
    {
      "cell_type": "code",
      "source": [
        "from sklearn.linear_model import Ridge\n",
        "\n",
        "# Ridge without scaling\n",
        "ridge = Ridge(alpha=1.0)\n",
        "ridge_cv_score_no_scaling = np.mean(cross_val_score\n",
        " (ridge, X_train, y_train, cv=kf, scoring='r2'))\n",
        "\n",
        "# Ridge with scaling\n",
        "ridge_with_scaling = make_pipeline(StandardScaler(), Ridge(alpha=1.0))\n",
        "ridge_cv_score_with_scaling = np.mean(cross_val_score\n",
        " (ridge_with_scaling, X_train, y_train, cv=kf, scoring='r2'))\n",
        "\n",
        "# Fit models for training & test scores\n",
        "ridge.fit(X_train, y_train)\n",
        "ridge_with_scaling.fit(X_train, y_train)\n",
        "\n",
        "# Print Ridge Regression results\n",
        "print(\"Ridge Regression Training Scores:\")\n",
        "print(f\"Without Scaling: {ridge.score(X_train, y_train):.2f}\")\n",
        "print(f\"With Scaling: {ridge_with_scaling.score(X_train, y_train):.2f}\")\n",
        "\n",
        "print(\"\\nRidge Regression Test Scores:\")\n",
        "print(f\"Without Scaling: {ridge.score(X_test, y_test):.2f}\")\n",
        "print(f\"With Scaling: {ridge_with_scaling.score(X_test, y_test):.2f}\")\n",
        "\n",
        "print(\"\\nRidge Regression Cross-Validation Scores:\")\n",
        "print(f\"Without Scaling: {ridge_cv_score_no_scaling:.2f}\")\n",
        "print(f\"With Scaling: {ridge_cv_score_with_scaling:.2f}\")\n"
      ],
      "metadata": {
        "colab": {
          "base_uri": "https://localhost:8080/"
        },
        "id": "Al_hgIA298xW",
        "outputId": "3a67b9ae-e0a5-48d9-d106-e03e63836922"
      },
      "execution_count": null,
      "outputs": [
        {
          "output_type": "stream",
          "name": "stdout",
          "text": [
            "Ridge Regression Training Scores:\n",
            "Without Scaling: 0.81\n",
            "With Scaling: 0.81\n",
            "\n",
            "Ridge Regression Test Scores:\n",
            "Without Scaling: 0.81\n",
            "With Scaling: 0.81\n",
            "\n",
            "Ridge Regression Cross-Validation Scores:\n",
            "Without Scaling: 0.77\n",
            "With Scaling: 0.77\n"
          ]
        }
      ]
    },
    {
      "cell_type": "code",
      "source": [
        "from sklearn.linear_model import Lasso\n",
        "\n",
        "# Lasso without scaling\n",
        "lasso = Lasso(alpha=10)\n",
        "lasso_cv_score_no_scaling = np.mean(cross_val_score\n",
        " (lasso, X_train, y_train, cv=kf, scoring='r2'))\n",
        "\n",
        "# Lasso with scaling\n",
        "lasso_with_scaling = make_pipeline(StandardScaler(), Lasso(alpha=10))\n",
        "lasso_cv_score_with_scaling = np.mean(cross_val_score\n",
        " (lasso_with_scaling, X_train, y_train, cv=kf, scoring='r2'))\n",
        "\n",
        "# Fit models for training and test scores\n",
        "lasso.fit(X_train, y_train)\n",
        "lasso_with_scaling.fit(X_train, y_train)\n",
        "\n",
        "# Print results\n",
        "print(\"Lasso Regression Training Scores:\")\n",
        "print(f\"Without Scaling: {lasso.score(X_train, y_train):.2f}\")\n",
        "print(f\"With Scaling: {lasso_with_scaling.score(X_train, y_train):.2f}\")\n",
        "\n",
        "print(\"\\nLasso Regression Test Scores:\")\n",
        "print(f\"Without Scaling: {lr.score(X_test, y_test):.2f}\")\n",
        "print(f\"With Scaling: {lasso_with_scaling.score(X_test, y_test):.2f}\")\n",
        "\n",
        "print(\"\\nLasso Regression Cross-Validation Scores:\")\n",
        "print(f\"Without Scaling: {lasso_cv_score_no_scaling:.2f}\")\n",
        "print(f\"With Scaling: {lasso_cv_score_with_scaling:.2f}\")\n"
      ],
      "metadata": {
        "colab": {
          "base_uri": "https://localhost:8080/"
        },
        "id": "Kb0h5BUv-CrM",
        "outputId": "9f5fd9be-0d6c-4455-a539-28631da34f71"
      },
      "execution_count": null,
      "outputs": [
        {
          "output_type": "stream",
          "name": "stdout",
          "text": [
            "Lasso Regression Training Scores:\n",
            "Without Scaling: 0.79\n",
            "With Scaling: 0.45\n",
            "\n",
            "Lasso Regression Test Scores:\n",
            "Without Scaling: 0.81\n",
            "With Scaling: 0.39\n",
            "\n",
            "Lasso Regression Cross-Validation Scores:\n",
            "Without Scaling: 0.76\n",
            "With Scaling: 0.41\n"
          ]
        }
      ]
    },
    {
      "cell_type": "code",
      "source": [
        "from sklearn.linear_model import Lasso\n",
        "\n",
        "# Lasso with scaling\n",
        "lasso_with_scaling = make_pipeline(StandardScaler(), Lasso(alpha=0.1))\n",
        "\n",
        "#alpha reduced to accomodate scaled data\n",
        "lasso_cv_score_with_scaling = np.mean\\\n",
        " (cross_val_score(lasso_with_scaling, X_train, y_train, cv=kf, scoring='r2'))\n",
        "\n",
        "# Fit models for training and test scores\n",
        "lasso.fit(X_train, y_train)\n",
        "lasso_with_scaling.fit(X_train, y_train)\n",
        "\n",
        "# Print results\n",
        "print(\"Lasso Regression Training Scores:\")\n",
        "print(f\"Without Scaling: {lasso.score(X_train, y_train):.2f}\")\n",
        "print(f\"With Scaling: {lasso_with_scaling.score(X_train, y_train):.2f}\")\n",
        "\n",
        "print(\"\\nLasso Regression Test Scores:\")\n",
        "print(f\"Without Scaling: {lr.score(X_test, y_test):.2f}\")\n",
        "print(f\"With Scaling: {lasso_with_scaling.score(X_test, y_test):.2f}\")\n",
        "\n",
        "print(\"\\nLasso Regression Cross-Validation Scores:\")\n",
        "print(f\"Without Scaling: {lasso_cv_score_no_scaling:.2f}\")\n",
        "print(f\"With Scaling: {lasso_cv_score_with_scaling:.2f}\")"
      ],
      "metadata": {
        "colab": {
          "base_uri": "https://localhost:8080/"
        },
        "id": "LBdnD2f7_akX",
        "outputId": "8343e0a8-42e5-41fa-dbb9-15c24138cdb4"
      },
      "execution_count": null,
      "outputs": [
        {
          "output_type": "stream",
          "name": "stdout",
          "text": [
            "Lasso Regression Training Scores:\n",
            "Without Scaling: 0.79\n",
            "With Scaling: 0.81\n",
            "\n",
            "Lasso Regression Test Scores:\n",
            "Without Scaling: 0.81\n",
            "With Scaling: 0.81\n",
            "\n",
            "Lasso Regression Cross-Validation Scores:\n",
            "Without Scaling: 0.76\n",
            "With Scaling: 0.77\n"
          ]
        }
      ]
    },
    {
      "cell_type": "markdown",
      "source": [
        "For linear regression and Ridge, StandardScalar there appears to be little difference between applying Standard Scalar and not.\n",
        "  \n",
        "However, KNN, being based on calculating Euclidian distance, is completely dependant on feature scaling. Without feature scaling, KNN's R^2 was negative, which means it performed worse than simply predicting the mean score.\n",
        "\n",
        "For Lasso, the impact of scaling was dependent on the chosen alpha. With an alpha of 10, the model performed worse when using scaled data, however with a lower alpha (less regulariazation) it scored marginally better."
      ],
      "metadata": {
        "id": "U4wpwX97CIzi"
      }
    },
    {
      "cell_type": "markdown",
      "source": [
        "# Finding optimal hyperparameters for each model using GridSearchCV. For KNN the hyperparameter is k (number of neighbours considered for each prediction), while for Ridge and Lasso it's alpha - the degree of regularization."
      ],
      "metadata": {
        "id": "hj6itj1fxp_x"
      }
    },
    {
      "cell_type": "code",
      "source": [
        "from sklearn.neighbors import KNeighborsRegressor\n",
        "from sklearn.preprocessing import StandardScaler\n",
        "from sklearn.model_selection import GridSearchCV, cross_val_score\n",
        "import numpy as np\n",
        "\n",
        "# Scale the training data\n",
        "scaler = StandardScaler()\n",
        "X_train_scaled = scaler.fit_transform(X_train)\n",
        "X_test_scaled = scaler.transform(X_test)\n",
        "\n",
        "# Define hyperparameter grid (only tuning k-values)\n",
        "param_grid = {\n",
        "    'n_neighbors': [1, 3, 5, 7, 9, 11, 13, 15, 17, 19 ]\n",
        "}\n",
        "\n",
        "# Initialize GridSearchCV\n",
        "grid_search = GridSearchCV(\n",
        "    KNeighborsRegressor(),\n",
        "    param_grid,\n",
        "    cv=10,  # 10-fold cross-validation\n",
        "    scoring='r2',  # R-squared as the evaluation metric\n",
        "    n_jobs=-1  # Use all CPU cores for efficiency\n",
        ")\n",
        "\n",
        "# Perform the grid search on the scaled training data\n",
        "grid_search.fit(X_train_scaled, y_train)\n",
        "\n",
        "# Find the best hyperparameters\n",
        "best_k = grid_search.best_params_['n_neighbors']\n",
        "print(\"Best k-value:\", best_k)\n",
        "\n",
        "# Train the best model using the optimal k\n",
        "best_knn = grid_search.best_estimator_\n",
        "\n",
        "# Evaluate the optimized model\n",
        "print(\"Optimized KNN Training set score: {:.2f}\"\n",
        ".format(best_knn.score(X_train_scaled, y_train)))\n",
        "print(\"Optimized KNN Test set score: {:.2f}\"\n",
        ".format(best_knn.score(X_test_scaled, y_test)))\n",
        "\n",
        "# Perform cross-validation on the best model\n",
        "best_knn_cv_score = np.mean(cross_val_score\n",
        " (best_knn, X_train_scaled, y_train, cv=10, scoring='r2'))\n",
        "print(\"Optimized KNN Regression Cross-Validation Score: \\\n",
        "{:.2f}\".format(best_knn_cv_score))\n"
      ],
      "metadata": {
        "colab": {
          "base_uri": "https://localhost:8080/"
        },
        "id": "zaO3RFsrEAKK",
        "outputId": "396754c4-b6ab-4175-e30e-47052ffb7567"
      },
      "execution_count": null,
      "outputs": [
        {
          "output_type": "stream",
          "name": "stdout",
          "text": [
            "Best k-value: 15\n",
            "Optimized KNN Training set score: 0.77\n",
            "Optimized KNN Test set score: 0.76\n",
            "Optimized KNN Regression Cross-Validation Score: 0.73\n"
          ]
        }
      ]
    },
    {
      "cell_type": "code",
      "source": [
        "from sklearn.linear_model import Ridge\n",
        "from sklearn.preprocessing import StandardScaler\n",
        "from sklearn.model_selection import GridSearchCV, cross_val_score\n",
        "import numpy as np\n",
        "\n",
        "# Scale the training data\n",
        "scaler = StandardScaler()\n",
        "X_train_scaled = scaler.fit_transform(X_train)\n",
        "X_test_scaled = scaler.transform(X_test)\n",
        "\n",
        "# Define hyperparameter grid for alpha tuning\n",
        "param_grid = {\n",
        "    'alpha': np.logspace(-3, 3, 10)\n",
        "    # Test alphas from 0.001 to 1000 on a logarithmic scale\n",
        "}\n",
        "\n",
        "# Initialize GridSearchCV\n",
        "grid_search = GridSearchCV(\n",
        "    Ridge(),\n",
        "    param_grid,\n",
        "    cv=10,  # 10-fold cross-validation\n",
        "    scoring='r2',  # Use R-squared as the evaluation metric\n",
        "    n_jobs=-1  # Use all available CPU cores\n",
        ")\n",
        "\n",
        "# Perform the grid search on the scaled training data\n",
        "grid_search.fit(X_train_scaled, y_train)\n",
        "\n",
        "# Get the best hyperparameter (alpha)\n",
        "best_alpha = grid_search.best_params_['alpha']\n",
        "print(\"Best alpha:\", best_alpha)\n",
        "\n",
        "# Train the best model using the optimal alpha\n",
        "best_ridge = grid_search.best_estimator_\n",
        "\n",
        "# Evaluate the optimized model\n",
        "print(\"Optimized Ridge Training set score: {:.2f}\"\n",
        ".format(best_ridge.score(X_train_scaled, y_train)))\n",
        "print(\"Optimized Ridge Test set score: {:.2f}\"\n",
        ".format(best_ridge.score(X_test_scaled, y_test)))\n",
        "\n",
        "# Perform cross-validation on the best model\n",
        "best_ridge_cv_score = np.mean(cross_val_score\n",
        " (best_ridge, X_train_scaled, y_train, cv=10, scoring='r2'))\n",
        "print(\"Optimized Ridge Regression Cross-Validation Score: {:.2f}\"\n",
        ".format(best_ridge_cv_score))\n"
      ],
      "metadata": {
        "colab": {
          "base_uri": "https://localhost:8080/"
        },
        "id": "FXTQ-JlgXVTd",
        "outputId": "c65fefe8-84f5-4319-f87a-33a6ece24fe8"
      },
      "execution_count": null,
      "outputs": [
        {
          "output_type": "stream",
          "name": "stdout",
          "text": [
            "Best alpha: 10.0\n",
            "Optimized Ridge Training set score: 0.80\n",
            "Optimized Ridge Test set score: 0.80\n",
            "Optimized Ridge Regression Cross-Validation Score: 0.78\n"
          ]
        }
      ]
    },
    {
      "cell_type": "code",
      "source": [
        "from sklearn.linear_model import Lasso\n",
        "from sklearn.preprocessing import StandardScaler\n",
        "from sklearn.model_selection import GridSearchCV, cross_val_score\n",
        "import numpy as np\n",
        "\n",
        "# Scale the training data\n",
        "scaler = StandardScaler()\n",
        "X_train_scaled = scaler.fit_transform(X_train)\n",
        "X_test_scaled = scaler.transform(X_test)\n",
        "\n",
        "# Define hyperparameter grid for alpha tuning\n",
        "param_grid = {\n",
        "    'alpha': np.logspace(-3, 3, 10)\n",
        "    # Test alphas from 0.001 to 1000 on a logarithmic scale\n",
        "}\n",
        "\n",
        "# Initialize GridSearchCV\n",
        "grid_search = GridSearchCV(\n",
        "    Lasso(max_iter=10000),  # Increase max_iter to ensure convergence\n",
        "    param_grid,\n",
        "    cv=10,  # 10-fold cross-validation\n",
        "    scoring='r2',  # Use R-squared as the evaluation metric\n",
        "    n_jobs=-1  # Use all available CPU cores\n",
        ")\n",
        "\n",
        "# Perform the grid search on the scaled training data\n",
        "grid_search.fit(X_train_scaled, y_train)\n",
        "\n",
        "# Get the best hyperparameter (alpha)\n",
        "best_alpha = grid_search.best_params_['alpha']\n",
        "print(\"Best alpha for Lasso:\", best_alpha)\n",
        "\n",
        "# Train the best model using the optimal alpha\n",
        "best_lasso = grid_search.best_estimator_\n",
        "\n",
        "# Evaluate the optimized model\n",
        "print(\"Optimized Lasso Training set score: {:.2f}\"\n",
        ".format(best_lasso.score(X_train_scaled, y_train)))\n",
        "print(\"Optimized Lasso Test set score: {:.2f}\"\n",
        ".format(best_lasso.score(X_test_scaled, y_test)))\n",
        "\n",
        "# Perform cross-validation on the best model\n",
        "best_lasso_cv_score = np.mean(cross_val_score\n",
        " (best_lasso, X_train_scaled, y_train, cv=10, scoring='r2'))\n",
        "print(\"Optimized Lasso Regression Cross-Validation Score: {:.2f}\"\n",
        ".format(best_lasso_cv_score))\n"
      ],
      "metadata": {
        "colab": {
          "base_uri": "https://localhost:8080/"
        },
        "id": "cqEPxqfnXk4i",
        "outputId": "2831838c-75ac-485c-b3d3-3c8d163ad15b"
      },
      "execution_count": null,
      "outputs": [
        {
          "output_type": "stream",
          "name": "stdout",
          "text": [
            "Best alpha for Lasso: 0.1\n",
            "Optimized Lasso Training set score: 0.81\n",
            "Optimized Lasso Test set score: 0.81\n",
            "Optimized Lasso Regression Cross-Validation Score: 0.78\n"
          ]
        }
      ]
    },
    {
      "cell_type": "markdown",
      "source": [
        "For KNN, results improved marginally with k = 15 instead of k = 5.\n",
        "\n",
        "For Ridge, results were essentially the same with an optimized alpha = 10\n",
        "\n",
        "For Lasso, the optimized alpha = 0.1 had already been found."
      ],
      "metadata": {
        "id": "qrhp7I7kXqI-"
      }
    },
    {
      "cell_type": "markdown",
      "source": [
        "#Displaying coefficients in the two best-performing models to determine the most predictive variables in each model"
      ],
      "metadata": {
        "id": "iszMI0RldB2A"
      }
    },
    {
      "cell_type": "code",
      "source": [
        "import pandas as pd\n",
        "\n",
        "varable_names = ['enrltot', 'teachers', 'calwpct', 'mealpct', 'computer',\n",
        "                 'compstu', 'expnstu', 'str', 'avginc', 'elpct']\n",
        "\n",
        "\n",
        "df_coef = pd.DataFrame({\n",
        "    \"Variable\": X.columns,\n",
        "    \"Linear Regression Coef\": lr.coef_,\n",
        "    \"Lasso Regression Coef\": best_lasso.coef_\n",
        "})\n",
        "\n",
        "\n",
        "\n",
        "print(df_coef)\n",
        "\n",
        "\n",
        "\n"
      ],
      "metadata": {
        "colab": {
          "base_uri": "https://localhost:8080/"
        },
        "id": "-HNWRBmrdkFJ",
        "outputId": "c327ec3d-de6f-4a48-8473-f065424949a5"
      },
      "execution_count": null,
      "outputs": [
        {
          "output_type": "stream",
          "name": "stdout",
          "text": [
            "   Variable  Linear Regression Coef  Lasso Regression Coef\n",
            "0   enrltot                0.000237              -0.000000\n",
            "1  teachers               -0.009685              -0.000000\n",
            "2   calwpct               -0.105122              -1.015310\n",
            "3   mealpct               -0.363632              -9.931920\n",
            "4  computer                0.002240               0.000000\n",
            "5   compstu               -1.501104               0.019521\n",
            "6   expnstu                0.001873               1.074776\n",
            "7       str               -0.368531              -0.580477\n",
            "8    avginc                0.517181               3.697999\n",
            "9     elpct               -0.197463              -3.349810\n"
          ]
        }
      ]
    },
    {
      "cell_type": "markdown",
      "source": [
        "The two models do not seem to agree on which factors are the most important. The linear regression assigns the highest weight to computer per student, wheras Lasso emphasizes percent qualifying for reduced-price lunch (proxy for socioeconomically disadvantaged), district average income and percent of English learners to be the most important.\n",
        "\n",
        "However, the models mostly agree on which variables are *not* important as Lasso has completly removed three variables which linear regression agrees are not important.\n"
      ],
      "metadata": {
        "id": "GwF_W7jpg9EH"
      }
    },
    {
      "cell_type": "markdown",
      "source": [
        "#Conclusion"
      ],
      "metadata": {
        "id": "Pc4cOUzgr72L"
      }
    },
    {
      "cell_type": "markdown",
      "source": [
        "Based on the results, I would probably use Lasso for predicting unseen data.\n",
        "\n",
        "This is because Lasso seems to generalize better by assigning more weight to the most important variables and removing redundant variables.\n",
        "\n",
        "Furthermore, while they have comparable predictive accuracy, Lasso has a slightly higher Cross-Validation score (0.78 vs 0.77), which should make it more robust."
      ],
      "metadata": {
        "id": "HLxaIwCLr919"
      }
    }
  ]
}